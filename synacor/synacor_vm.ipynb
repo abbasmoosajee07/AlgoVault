{
 "cells": [
  {
   "cell_type": "markdown",
   "id": "c6b4f5ab",
   "metadata": {},
   "source": [
    "# Synacor Challenge VM\n",
    "\n",
    "**Solution Started**: July 7, 2025  \n",
    "**Author**: Abbas Moosajee\n",
    "\n",
    "This notebook loads and runs the Synacor challenge binary using a custom `VirtualMachine` implementation, highlights challenge codes, and displays the interactive game output in styled HTML."
   ]
  },
  {
   "cell_type": "code",
   "execution_count": 41,
   "id": "7ce26f14",
   "metadata": {},
   "outputs": [],
   "source": [
    "import os, re, time\n",
    "from html import escape\n",
    "from IPython.display import display, HTML\n",
    "from VirtualMachine import VirtualMachine\n",
    "start_time = time.time()"
   ]
  },
  {
   "cell_type": "code",
   "execution_count": 42,
   "id": "b65e8efa",
   "metadata": {},
   "outputs": [],
   "source": [
    "# Load the binary program file\n",
    "program_file = \"challenge.bin\"\n",
    "file_path = os.path.join(os.getcwd(), program_file)  # assumes file in current working dir\n",
    "with open(file_path, \"rb\") as f:\n",
    "    vm_program = f.read()"
   ]
  },
  {
   "cell_type": "code",
   "execution_count": 43,
   "id": "f24b8ad1",
   "metadata": {},
   "outputs": [],
   "source": [
    "class SynacorConsole:\n",
    "    def __init__(self, software):\n",
    "        self.console = VirtualMachine(software)\n",
    "        self.code_no = 0\n",
    "        self.challenge_codes = {}\n",
    "\n",
    "    @staticmethod\n",
    "    def md5_hash(code: str) -> str:\n",
    "        import hashlib\n",
    "        return hashlib.md5(code.encode('utf-8')).hexdigest()\n",
    "\n",
    "    def get_challenge_codes(self, text):\n",
    "        \"\"\"Extract and store all mixed-case challenge codes.\"\"\"\n",
    "        all_codes = re.findall(\n",
    "            r\"\\b((?:[a-z]+[A-Z]+[a-z]|[A-Z]+[a-z]+[A-Z])\\w*)\\b\", text\n",
    "        )\n",
    "        for code in all_codes:\n",
    "            self.code_no += 1\n",
    "            hash_result = self.md5_hash(code)\n",
    "            self.challenge_codes[self.code_no] = (code, hash_result)\n",
    "        return all_codes\n",
    "\n",
    "    def format_terminal(self, text, codes_color):\n",
    "        \"\"\"Highlight mixed-case challenge codes in HTML.\"\"\"\n",
    "        text = escape(text)\n",
    "        return re.sub(\n",
    "            r\"\\b((?:[a-z]+[A-Z]+[a-z]|[A-Z]+[a-z]+[A-Z])\\w*)\\b\",\n",
    "            rf\"<span style='color:{codes_color}'>\\1</span>\",\n",
    "            text\n",
    "        )\n",
    "\n",
    "    def display_terminal(self, text):\n",
    "        \"\"\"Format and display terminal output with highlighted codes.\"\"\"\n",
    "        self.color_dict = {\n",
    "            \"background\": \"#282828\",\n",
    "            \"terminal\": \"#33FF00\",\n",
    "            \"codes\": \"#FFB000\"\n",
    "        }\n",
    "        formatted = text.replace('. ', '.\\n')\n",
    "        html = (\n",
    "            f\"<div style='background-color: {self.color_dict['background']}; padding: 1ex'>\"\n",
    "            f\"<pre style='background-color: {self.color_dict['background']}; color: {self.color_dict['terminal']}; margin: 0'>\"\n",
    "            + self.format_terminal(formatted, self.color_dict['codes'])\n",
    "            + \"</pre></div>\"\n",
    "        )\n",
    "        display(HTML(html))\n",
    "\n",
    "    def play_game(self, actions = []):\n",
    "        full_terminal = self.console.run_computer()\n",
    "        current_terminal = full_terminal[-1]\n",
    "        self.get_challenge_codes(current_terminal)\n",
    "        self.display_terminal(current_terminal)"
   ]
  },
  {
   "cell_type": "code",
   "execution_count": 44,
   "id": "fe32b845",
   "metadata": {},
   "outputs": [
    {
     "data": {
      "text/html": [
       "<div style='background-color: #282828; padding: 1ex'><pre style='background-color: #282828; color: #33FF00; margin: 0'>Welcome to the Synacor OSCON 2012 Challenge!\n",
       "Please record your progress by putting codes like\n",
       "this one into the challenge website: <span style='color:#FFB000'>ImoFztWQCvxj</span>\n",
       "\n",
       "Executing self-test...\n",
       "\n",
       "self-test complete, all tests pass\n",
       "The self-test completion code is: <span style='color:#FFB000'>BNCyODLfQkIl</span>\n",
       "\n",
       "== Foothills ==\n",
       "You find yourself standing at the base of an enormous mountain.\n",
       " At its base to the north, there is a massive doorway.\n",
       " A sign nearby reads &quot;Keep out!  Definitely no treasure within!&quot;\n",
       "\n",
       "Things of interest here:\n",
       "- tablet\n",
       "\n",
       "There are 2 exits:\n",
       "- doorway\n",
       "- south\n",
       "\n",
       "What do you do?\n",
       "</pre></div>"
      ],
      "text/plain": [
       "<IPython.core.display.HTML object>"
      ]
     },
     "metadata": {},
     "output_type": "display_data"
    }
   ],
   "source": [
    "# Run the VM with simulated input\n",
    "console = SynacorConsole(vm_program)\n",
    "console.play_game()"
   ]
  },
  {
   "cell_type": "code",
   "execution_count": 45,
   "id": "e843087c",
   "metadata": {},
   "outputs": [
    {
     "name": "stdout",
     "output_type": "stream",
     "text": [
      "Execution Time = 1.40084s\n"
     ]
    }
   ],
   "source": [
    "print(f\"Execution Time = {time.time() - start_time:.5f}s\")"
   ]
  }
 ],
 "metadata": {
  "kernelspec": {
   "display_name": "Python 3",
   "name": "python3"
  },
  "language_info": {
   "codemirror_mode": {
    "name": "ipython",
    "version": 3
   },
   "file_extension": ".py",
   "mimetype": "text/x-python",
   "name": "python",
   "nbconvert_exporter": "python",
   "pygments_lexer": "ipython3",
   "version": "3.13.0"
  }
 },
 "nbformat": 4,
 "nbformat_minor": 5
}
