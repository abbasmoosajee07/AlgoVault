{
 "cells": [
  {
   "cell_type": "markdown",
   "id": "94c04cdd",
   "metadata": {},
   "source": [
    "## Turing Machine"
   ]
  },
  {
   "cell_type": "code",
   "execution_count": 21,
   "id": "3a9d0e42",
   "metadata": {},
   "outputs": [],
   "source": [
    "import os, re, copy, time, psutil\n",
    "start_time = time.time()"
   ]
  },
  {
   "cell_type": "code",
   "execution_count": 22,
   "id": "7239247e",
   "metadata": {},
   "outputs": [],
   "source": [
    "class LogicMill:\n",
    "    def __init__(self):\n",
    "        pass\n"
   ]
  },
  {
   "cell_type": "code",
   "execution_count": 23,
   "id": "22ce9457",
   "metadata": {},
   "outputs": [],
   "source": [
    "class TuringMachine:\n",
    "    LEFT  = \"L\"\n",
    "    RIGHT = \"R\"\n",
    "    BLANK = \"_\"\n",
    "    COMMENT_PREFIX = \"//\"\n",
    "    TransitionType = tuple[str, str, str, str, str]\n",
    "\n",
    "    def __init__(self):\n",
    "        self.init_time = self.get_timestamp()\n",
    "        self.init_memory = self.get_current_memory_mb()\n",
    "\n",
    "    @staticmethod\n",
    "    def get_timestamp() -> float:\n",
    "        return time.time()\n",
    "\n",
    "    @staticmethod\n",
    "    def get_current_memory_mb() -> float:\n",
    "        process = psutil.Process()\n",
    "        mem_bytes = process.memory_info().rss  # Resident Set Size (physical memory)\n",
    "        return round(mem_bytes / (1024 * 1024), 2)  # Convert bytes to MB\n",
    "\n",
    "    def parse_transition_rules(self, transition_rules_str: str) -> list[TransitionType]:\n",
    "        \"\"\"\n",
    "        Parse a string into a list of transition rules for the logic mill.\n",
    "        Args:\n",
    "            transition_rules_str: A string containing transition rules, with each rule on a new line.\n",
    "                Each rule should be space-separated values in the format:\n",
    "                currentState currentSymbol newState newSymbol moveDirection\n",
    "        Returns:\n",
    "            A list of transition tuples:\n",
    "            (currentState, currentSymbol, newState, newSymbol, moveDirection)\n",
    "        Raises:\n",
    "            ValueError: If a rule is invalid (e.g., wrong number of tokens or invalid direction).\n",
    "        \"\"\"\n",
    "\n",
    "        transitions_list = []\n",
    "        raw_rule_list = transition_rules_str.split(\"\\n\")\n",
    "        for raw_line in raw_rule_list:\n",
    "            line = raw_line.strip()\n",
    "            if not line or line.startswith(self.COMMENT_PREFIX):\n",
    "                continue\n",
    "\n",
    "            # Remove inline comments\n",
    "            line = line.split(self.COMMENT_PREFIX, 1)[0].strip()\n",
    "            values = [val for val in line.split(\" \") if val.strip()]\n",
    "\n",
    "            if len(values) != 5:\n",
    "                raise ValueError(f\"Invalid transition rule (expected 5 elements): Recieved {len(values)} elements in line \\n'{line}'\")\n",
    "\n",
    "            current_state, current_symbol, new_state, new_symbol, direction = values\n",
    "            if direction not in (self.LEFT, self.RIGHT):\n",
    "                raise ValueError(f\"Invalid move direction '{direction}' in rule: '{line}'\")\n",
    "\n",
    "            transitions_list.append((current_state, current_symbol, new_state, new_symbol, direction))\n",
    "        return transitions_list\n",
    "\n",
    "    def run_machine(self):\n",
    "        return\n"
   ]
  },
  {
   "cell_type": "code",
   "execution_count": 24,
   "id": "2b1ed15e",
   "metadata": {},
   "outputs": [
    {
     "name": "stdout",
     "output_type": "stream",
     "text": [
      "[('INIT', '|', 'FIND', '|', 'R'), ('FIND', '|', 'FIND', '|', 'R'), ('FIND', '_', 'HALT', '|', 'R')]\n"
     ]
    }
   ],
   "source": [
    "from logic_mill_base import LogicMill\n",
    "init_rules = \"\"\"\n",
    "    INIT | FIND | R\n",
    "    FIND | FIND | R\n",
    "    FIND _ HALT | R\n",
    "    \"\"\"\n",
    "transition_rules = TuringMachine().parse_transition_rules(init_rules)\n",
    "print(transition_rules)\n",
    "# mill = LogicMill(transition_rules)\n",
    "# result, steps = mill.run(\"||||\", verbose=True)\n",
    "# print(f\"Result: {result}\")\n",
    "# print(f\"Steps: {steps}\")\n"
   ]
  },
  {
   "cell_type": "code",
   "execution_count": 25,
   "id": "d69948ea",
   "metadata": {},
   "outputs": [
    {
     "name": "stdout",
     "output_type": "stream",
     "text": [
      "Execution Time = 2.05849s\n"
     ]
    }
   ],
   "source": [
    "print(f\"Execution Time = {time.time() - start_time:.5f}s\")"
   ]
  }
 ],
 "metadata": {
  "kernelspec": {
   "display_name": "Python 3",
   "language": "python",
   "name": "python3"
  },
  "language_info": {
   "codemirror_mode": {
    "name": "ipython",
    "version": 3
   },
   "file_extension": ".py",
   "mimetype": "text/x-python",
   "name": "python",
   "nbconvert_exporter": "python",
   "pygments_lexer": "ipython3",
   "version": "3.13.5"
  }
 },
 "nbformat": 4,
 "nbformat_minor": 5
}
